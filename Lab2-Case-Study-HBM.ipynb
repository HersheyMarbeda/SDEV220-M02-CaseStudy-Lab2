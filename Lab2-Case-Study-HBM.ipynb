{
 "cells": [
  {
   "cell_type": "markdown",
   "metadata": {},
   "source": [
    "# SDEV 220-M02-CaseStudy-Lab2\n",
    "- Programmer: Hershey Marbeda\n",
    "- Instructor: Mr. Hamby\n",
    "- Course: SDEV 220: Soft. Dev. Using Python\n"
   ]
  },
  {
   "cell_type": "markdown",
   "metadata": {},
   "source": [
    "## Program Description\n",
    "- The program is expected to determine if a student's GPA will be qualified for Dean's List or Honor Roll. The program will also expect the user to input their first name, last name, and GPA. The only way to exit the program if the user input \"exit.\""
   ]
  },
  {
   "cell_type": "markdown",
   "metadata": {},
   "source": [
    "### Programming Assignment Description\n",
    "- Write a Python app that will accept student names and GPAs and test if the student qualifies for either the Dean's List or the Honor Roll. Your app will:\n",
    "    - ask for and accept a student's last name. \n",
    "    - quit processing student records if the last name entered is 'ZZZ'.\n",
    "    - ask for and accept a student's first name.\n",
    "    - ask for and accept the student's GPA as a float.\n",
    "    - test if the student's GPA is 3.5 or greater and, if so, print a message saying that the student has made the Dean's List.\n",
    "    - test if the student's GPA is 3.25 or greater and, if so, print a message saying that the studnet has made the Honor Roll."
   ]
  },
  {
   "cell_type": "markdown",
   "metadata": {},
   "source": [
    "Prompt to Ask and Accept a Student's Last and First names as well as the input validation and while loop to keep the program going until the user decided to terminate the program"
   ]
  },
  {
   "cell_type": "code",
   "execution_count": null,
   "metadata": {},
   "outputs": [],
   "source": [
    "while True:\n",
    "    student_last_name = input(\"\\nPlease enter the student's Last Name (type 'exit' to end the program): \")\n",
    "\n",
    "    if student_last_name == \"ZZZ\" or student_last_name == \"zzz\":\n",
    "       print(\"\\nYou have entered ZZZ. Exiting the program.\")\n",
    "       exit()\n",
    "    elif student_last_name == \"exit\" or student_last_name == \"Exit\" or student_last_name == \"EXIT\":\n",
    "       print(\"\\nYou have entered Exit. Exiting the program.\")\n",
    "       exit()\n",
    "    \n",
    "    student_first_name = input(\"Please enter the student's First Name: \")\n"
   ]
  },
  {
   "cell_type": "markdown",
   "metadata": {},
   "source": [
    "This line of code determines if the student's GPA is qualified for Dean's List or Honor Roll"
   ]
  },
  {
   "cell_type": "code",
   "execution_count": null,
   "metadata": {},
   "outputs": [],
   "source": [
    "student_GPA = float(input(\"Please enter the student's GPA: \"))\n",
    "\n",
    "# To Determine the Student's Qualification for the Dean's List\n",
    "if student_GPA >= 3.5:\n",
    "        print(f\"\\n{student_first_name} {student_last_name} has made the Dean's List!\")\n",
    "elif student_GPA >= 3.25:\n",
    "        print(f\"\\n{student_first_name} {student_last_name} has made the Honor Roll!\")\n",
    "elif student_GPA < 3.25:\n",
    "        print(f\"\\n{student_first_name} {student_last_name} has not qualified for the Dean's List or the Honor Roll.\\n\")"
   ]
  },
  {
   "cell_type": "markdown",
   "metadata": {},
   "source": [
    "Example Output with fix input"
   ]
  },
  {
   "cell_type": "code",
   "execution_count": null,
   "metadata": {},
   "outputs": [],
   "source": [
    "student_last_name = \"Marbeda\"\n",
    "student_first_name = \"Hershey\"\n",
    "student_GPA = 3.8\n",
    "\n",
    "if student_GPA >= 3.5:\n",
    "        print(f\"\\n{student_first_name} {student_last_name} has made the Dean's List!\")\n",
    "elif student_GPA >= 3.25:\n",
    "        print(f\"\\n{student_first_name} {student_last_name} has made the Honor Roll!\")\n",
    "elif student_GPA < 3.25:\n",
    "        print(f\"\\n{student_first_name} {student_last_name} has not qualified for the Dean's List or the Honor Roll.\\n\")"
   ]
  }
 ],
 "metadata": {
  "kernelspec": {
   "display_name": "Python 3",
   "language": "python",
   "name": "python3"
  },
  "language_info": {
   "codemirror_mode": {
    "name": "ipython",
    "version": 3
   },
   "file_extension": ".py",
   "mimetype": "text/x-python",
   "name": "python",
   "nbconvert_exporter": "python",
   "pygments_lexer": "ipython3",
   "version": "3.9.6"
  }
 },
 "nbformat": 4,
 "nbformat_minor": 2
}
