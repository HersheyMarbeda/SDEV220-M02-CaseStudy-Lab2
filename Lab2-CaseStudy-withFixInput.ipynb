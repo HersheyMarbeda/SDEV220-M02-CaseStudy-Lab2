{
 "cells": [
  {
   "cell_type": "markdown",
   "metadata": {},
   "source": [
    "### Example of Output Statement with Fix Inputs"
   ]
  },
  {
   "cell_type": "code",
   "execution_count": 3,
   "metadata": {},
   "outputs": [
    {
     "name": "stdout",
     "output_type": "stream",
     "text": [
      "\n",
      "Hershey Marbeda has made the Dean's List!\n"
     ]
    }
   ],
   "source": [
    "student_last_name = \"Marbeda\"\n",
    "student_first_name = \"Hershey\"\n",
    "student_GPA = 4.0\n",
    "\n",
    "if student_GPA >= 3.5:\n",
    "  print(f\"\\n{student_first_name} {student_last_name} has made the Dean's List!\")\n",
    "elif student_GPA >= 3.25:\n",
    "  print(f\"\\n{student_first_name} {student_last_name} has made the Honor Roll!\")\n",
    "elif student_GPA < 3.25:\n",
    "  print(f\"\\n{student_first_name} {student_last_name} has not qualified for the Dean's List or the Honor Roll.\\n\")"
   ]
  },
  {
   "cell_type": "code",
   "execution_count": null,
   "metadata": {},
   "outputs": [
    {
     "name": "stdout",
     "output_type": "stream",
     "text": [
      "\n",
      "You have entered ZZZ. Exiting the program.\n"
     ]
    },
    {
     "ename": "",
     "evalue": "",
     "output_type": "error",
     "traceback": [
      "\u001b[1;31mThe Kernel crashed while executing code in the current cell or a previous cell. \n",
      "\u001b[1;31mPlease review the code in the cell(s) to identify a possible cause of the failure. \n",
      "\u001b[1;31mClick <a href='https://aka.ms/vscodeJupyterKernelCrash'>here</a> for more info. \n",
      "\u001b[1;31mView Jupyter <a href='command:jupyter.viewOutput'>log</a> for further details."
     ]
    }
   ],
   "source": [
    "student_last_name = \"zzz\"\n",
    "\n",
    "if student_last_name == \"ZZZ\" or student_last_name == \"zzz\":\n",
    "       print(\"\\nYou have entered ZZZ. Exiting the program.\")\n",
    "       exit()\n",
    "elif student_last_name == \"exit\" or student_last_name == \"Exit\" or student_last_name == \"EXIT\":\n",
    "       print(\"\\nYou have entered Exit. Exiting the program.\")\n",
    "       exit()"
   ]
  }
 ],
 "metadata": {
  "kernelspec": {
   "display_name": "Python 3",
   "language": "python",
   "name": "python3"
  },
  "language_info": {
   "codemirror_mode": {
    "name": "ipython",
    "version": 3
   },
   "file_extension": ".py",
   "mimetype": "text/x-python",
   "name": "python",
   "nbconvert_exporter": "python",
   "pygments_lexer": "ipython3",
   "version": "3.9.6"
  }
 },
 "nbformat": 4,
 "nbformat_minor": 2
}
