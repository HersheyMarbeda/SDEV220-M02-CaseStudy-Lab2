{
 "cells": [
  {
   "cell_type": "markdown",
   "metadata": {},
   "source": [
    "### Example of Output Statement with Fix Inputs"
   ]
  },
  {
   "cell_type": "code",
   "execution_count": 3,
   "metadata": {},
   "outputs": [
    {
     "name": "stdout",
     "output_type": "stream",
     "text": [
      "\n",
      "Hershey Marbeda has made the Dean's List!\n"
     ]
    }
   ],
   "source": [
    "student_last_name = \"Marbeda\"\n",
    "student_first_name = \"Hershey\"\n",
    "student_GPA = 4.0\n",
    "\n",
    "if student_GPA >= 3.5:\n",
    "  print(f\"\\n{student_first_name} {student_last_name} has made the Dean's List!\")\n",
    "elif student_GPA >= 3.25:\n",
    "  print(f\"\\n{student_first_name} {student_last_name} has made the Honor Roll!\")\n",
    "elif student_GPA < 3.25:\n",
    "  print(f\"\\n{student_first_name} {student_last_name} has not qualified for the Dean's List or the Honor Roll.\\n\")"
   ]
  }
 ],
 "metadata": {
  "kernelspec": {
   "display_name": "Python 3",
   "language": "python",
   "name": "python3"
  },
  "language_info": {
   "codemirror_mode": {
    "name": "ipython",
    "version": 3
   },
   "file_extension": ".py",
   "mimetype": "text/x-python",
   "name": "python",
   "nbconvert_exporter": "python",
   "pygments_lexer": "ipython3",
   "version": "3.9.6"
  }
 },
 "nbformat": 4,
 "nbformat_minor": 2
}
